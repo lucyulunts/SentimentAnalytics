{
  "cells": [
    {
      "cell_type": "code",
      "execution_count": null,
      "metadata": {
        "id": "cwde9BBhPxmm"
      },
      "outputs": [],
      "source": [
        "#from google.colab import drive\n",
        "#drive.mount('/content/gdrive')"
      ]
    },
    {
      "cell_type": "code",
      "execution_count": null,
      "metadata": {
        "colab": {
          "base_uri": "https://localhost:8080/"
        },
        "id": "yZNVWOc-gL6f",
        "outputId": "afbd80a9-d0e7-495d-bc5b-15d6fbd1c552",
        "collapsed": true
      },
      "outputs": [
        {
          "name": "stdout",
          "output_type": "stream",
          "text": [
            "Defaulting to user installation because normal site-packages is not writeable\n",
            "Collecting nltk\n",
            "  Downloading nltk-3.8.1-py3-none-any.whl.metadata (2.8 kB)\n",
            "Collecting click (from nltk)\n",
            "  Downloading click-8.1.7-py3-none-any.whl.metadata (3.0 kB)\n",
            "Requirement already satisfied: joblib in /Users/Tiziana/Library/Python/3.9/lib/python/site-packages (from nltk) (1.3.2)\n",
            "Collecting regex>=2021.8.3 (from nltk)\n",
            "  Downloading regex-2024.5.15-cp39-cp39-macosx_11_0_arm64.whl.metadata (40 kB)\n",
            "\u001b[2K     \u001b[90m━━━━━━━━━━━━━━━━━━━━━━━━━━━━━━━━━━━━━━━━\u001b[0m \u001b[32m40.9/40.9 kB\u001b[0m \u001b[31m1.2 MB/s\u001b[0m eta \u001b[36m0:00:00\u001b[0m\n",
            "\u001b[?25hCollecting tqdm (from nltk)\n",
            "  Downloading tqdm-4.66.4-py3-none-any.whl.metadata (57 kB)\n",
            "\u001b[2K     \u001b[90m━━━━━━━━━━━━━━━━━━━━━━━━━━━━━━━━━━━━━━━━\u001b[0m \u001b[32m57.6/57.6 kB\u001b[0m \u001b[31m2.4 MB/s\u001b[0m eta \u001b[36m0:00:00\u001b[0m\n",
            "\u001b[?25hDownloading nltk-3.8.1-py3-none-any.whl (1.5 MB)\n",
            "\u001b[2K   \u001b[90m━━━━━━━━━━━━━━━━━━━━━━━━━━━━━━━━━━━━━━━━\u001b[0m \u001b[32m1.5/1.5 MB\u001b[0m \u001b[31m2.6 MB/s\u001b[0m eta \u001b[36m0:00:00\u001b[0ma \u001b[36m0:00:01\u001b[0m\n",
            "\u001b[?25hDownloading regex-2024.5.15-cp39-cp39-macosx_11_0_arm64.whl (278 kB)\n",
            "\u001b[2K   \u001b[90m━━━━━━━━━━━━━━━━━━━━━━━━━━━━━━━━━━━━━━━━\u001b[0m \u001b[32m278.3/278.3 kB\u001b[0m \u001b[31m3.4 MB/s\u001b[0m eta \u001b[36m0:00:00\u001b[0m00:01\u001b[0m00:01\u001b[0m\n",
            "\u001b[?25hDownloading click-8.1.7-py3-none-any.whl (97 kB)\n",
            "\u001b[2K   \u001b[90m━━━━━━━━━━━━━━━━━━━━━━━━━━━━━━━━━━━━━━━━\u001b[0m \u001b[32m97.9/97.9 kB\u001b[0m \u001b[31m4.1 MB/s\u001b[0m eta \u001b[36m0:00:00\u001b[0m\n",
            "\u001b[?25hDownloading tqdm-4.66.4-py3-none-any.whl (78 kB)\n",
            "\u001b[2K   \u001b[90m━━━━━━━━━━━━━━━━━━━━━━━━━━━━━━━━━━━━━━━━\u001b[0m \u001b[32m78.3/78.3 kB\u001b[0m \u001b[31m2.4 MB/s\u001b[0m eta \u001b[36m0:00:00\u001b[0m\n",
            "\u001b[?25hInstalling collected packages: tqdm, regex, click, nltk\n",
            "Successfully installed click-8.1.7 nltk-3.8.1 regex-2024.5.15 tqdm-4.66.4\n",
            "\n",
            "\u001b[1m[\u001b[0m\u001b[34;49mnotice\u001b[0m\u001b[1;39;49m]\u001b[0m\u001b[39;49m A new release of pip is available: \u001b[0m\u001b[31;49m24.0\u001b[0m\u001b[39;49m -> \u001b[0m\u001b[32;49m24.1\u001b[0m\n",
            "\u001b[1m[\u001b[0m\u001b[34;49mnotice\u001b[0m\u001b[1;39;49m]\u001b[0m\u001b[39;49m To update, run: \u001b[0m\u001b[32;49m/Library/Developer/CommandLineTools/usr/bin/python3 -m pip install --upgrade pip\u001b[0m\n"
          ]
        },
        {
          "name": "stderr",
          "output_type": "stream",
          "text": [
            "[nltk_data] Downloading package punkt to /Users/Tiziana/nltk_data...\n",
            "[nltk_data]   Unzipping tokenizers/punkt.zip.\n",
            "[nltk_data] Downloading package stopwords to\n",
            "[nltk_data]     /Users/Tiziana/nltk_data...\n",
            "[nltk_data]   Unzipping corpora/stopwords.zip.\n",
            "[nltk_data] Downloading package wordnet to /Users/Tiziana/nltk_data...\n"
          ]
        },
        {
          "data": {
            "text/plain": [
              "True"
            ]
          },
          "execution_count": 3,
          "metadata": {},
          "output_type": "execute_result"
        }
      ],
      "source": [
        "# Install NLTK and download necessary resources\n",
        "!pip install nltk\n",
        "!pip install pandas numpy matplotlib seaborn scikit-learn\n",
        "!pip install keras\n",
        "!pip install tensorflow\n",
        "!pip install --upgrade tensorflow\n",
        "\n",
        "import pandas as pd\n",
        "import matplotlib.pyplot as plt\n",
        "import seaborn as sns\n",
        "from sklearn.metrics import confusion_matrix\n",
        "import re\n",
        "import nltk\n",
        "nltk.download('punkt')\n",
        "from sklearn.metrics import confusion_matrix,classification_report\n",
        "nltk.download('stopwords')\n",
        "nltk.download('wordnet')\n",
        "from nltk.tokenize import word_tokenize\n",
        "from nltk.corpus import stopwords\n",
        "from nltk.stem import WordNetLemmatizer\n",
        "import tensorflow as tf\n",
        "from tensorflow.keras.preprocessing.text import Tokenizer\n",
        "from tensorflow.keras.preprocessing.sequence import pad_sequences\n",
        "from tensorflow.keras.models import Sequential\n",
        "from keras.models import Sequential\n",
        "from keras.layers import Dense, Embedding, LSTM, SpatialDropout1D\n",
        "from sklearn.model_selection import train_test_split\n",
        "import numpy as np\n",
        "nltk.download('omw-1.4')\n",
        "from keras.utils import plot_model"
      ]
    },
    {
      "cell_type": "markdown",
      "metadata": {
        "id": "42V3BTV-Pufd"
      },
      "source": [
        "# LSTM for classification\n"
      ]
    },
    {
      "cell_type": "code",
      "execution_count": null,
      "metadata": {
        "id": "MwZUERW0Pufg"
      },
      "outputs": [],
      "source": [
        "train = pd.read_csv('/Users/Tiziana/Desktop/Facultad/team 4/data/data/train.csv', header=None)\n",
        "test = pd.read_csv('/Users/Tiziana/Desktop/Facultad/team 4/data/data/test.csv',header=None)"
      ]
    },
    {
      "cell_type": "code",
      "execution_count": null,
      "metadata": {
        "id": "VyXKvUXTCgGs"
      },
      "outputs": [],
      "source": [
        "train = train.rename(columns={train.columns[0]: 'rate', train.columns[1]: 'text'})\n",
        "test = test.rename(columns={train.columns[0]: 'rate', test.columns[1]: 'text'})"
      ]
    },
    {
      "cell_type": "code",
      "execution_count": null,
      "metadata": {
        "id": "qJFpVOizou5n",
        "outputId": "5b1954ae-833e-4fe7-c6d6-fc7cf3556772"
      },
      "outputs": [
        {
          "data": {
            "text/plain": [
              "0\n",
              "1    10000\n",
              "3    10000\n",
              "2    10000\n",
              "4    10000\n",
              "5    10000\n",
              "Name: count, dtype: int64"
            ]
          },
          "execution_count": 76,
          "metadata": {},
          "output_type": "execute_result"
        }
      ],
      "source": [
        "rate_counts = test[0].value_counts()\n",
        "rate_counts"
      ]
    },
    {
      "cell_type": "code",
      "execution_count": null,
      "metadata": {
        "id": "vVj27RyYg6Xl"
      },
      "outputs": [],
      "source": [
        "max_features = 2000\n",
        "lemmatizer = WordNetLemmatizer()\n",
        "\n",
        "def lemmatize_tokens(tokens):\n",
        "    lemmatized_tokens = [lemmatizer.lemmatize(token) for token in tokens]\n",
        "    return lemmatized_tokens\n",
        "\n",
        "stop_words = set(stopwords.words('english')) # Set of English stop words\n",
        "\n",
        "def remove_special_characters(text):\n",
        "    clean_text = re.sub(r'[^a-zA-Z0-9\\s]', '', text)\n",
        "    return clean_text\n",
        "\n",
        "def remove_stopwords(tokens):\n",
        "    filtered_tokens = [token for token in tokens if token.lower() not in stop_words and token.strip() != '']\n",
        "    return filtered_tokens"
      ]
    },
    {
      "cell_type": "code",
      "execution_count": null,
      "metadata": {
        "id": "vh_hilGvk07l"
      },
      "outputs": [],
      "source": [
        "# Preprocess train data\n",
        "train['text'] = train['text'].apply(lambda x: x.lower())\n",
        "train['text'] = train['text'].apply(remove_special_characters)\n",
        "train['text'] = train['text'].apply(nltk.word_tokenize)  # Tokenize before removing stopwords\n",
        "train['text'] = train['text'].apply(remove_stopwords)\n",
        "train['text'] = train['text'].apply(lemmatize_tokens)"
      ]
    },
    {
      "cell_type": "code",
      "execution_count": null,
      "metadata": {
        "id": "BU9tzh0CiZVf"
      },
      "outputs": [],
      "source": [
        "# Preprocess test data\n",
        "test['text'] = test['text'].apply(lambda x: x.lower())\n",
        "test['text'] = test['text'].apply(remove_special_characters)\n",
        "test['text'] = test['text'].apply(nltk.word_tokenize)  # Tokenize before removing stopwords\n",
        "test['text'] = test['text'].apply(remove_stopwords)\n",
        "test['text'] = test['text'].apply(lemmatize_tokens)"
      ]
    },
    {
      "cell_type": "code",
      "execution_count": null,
      "metadata": {
        "id": "HD1RvXCEia7j"
      },
      "outputs": [],
      "source": [
        "# Tokenize and pad sequences for train data\n",
        "tokenizer = Tokenizer(num_words=max_features, split=' ')\n",
        "tokenizer.fit_on_texts(train['text'].apply(lambda x: ' '.join(x)).values)  # Join tokens into sentences\n",
        "X_train = tokenizer.texts_to_sequences(train['text'].apply(lambda x: ' '.join(x)).values)\n",
        "X_train = pad_sequences(X_train)"
      ]
    },
    {
      "cell_type": "code",
      "execution_count": null,
      "metadata": {
        "id": "2V-BUH2oiedW"
      },
      "outputs": [],
      "source": [
        "# Tokenize and pad sequences for test data\n",
        "X_test = tokenizer.texts_to_sequences(test['text'].apply(lambda x: ' '.join(x)).values)\n",
        "X_test = pad_sequences(X_test)"
      ]
    },
    {
      "cell_type": "code",
      "execution_count": null,
      "metadata": {
        "id": "idLc3q9KQ5nq"
      },
      "outputs": [],
      "source": [
        "Y_train = pd.get_dummies(train['rate']).values\n",
        "Y_test = pd.get_dummies(test[0]).values"
      ]
    },
    {
      "cell_type": "code",
      "execution_count": null,
      "metadata": {
        "colab": {
          "base_uri": "https://localhost:8080/"
        },
        "id": "DxfAePYQKqar",
        "outputId": "a29a9735-f118-4da8-f471-12a77c479273"
      },
      "outputs": [
        {
          "data": {
            "text/html": [
              "<pre style=\"white-space:pre;overflow-x:auto;line-height:normal;font-family:Menlo,'DejaVu Sans Mono',consolas,'Courier New',monospace\"><span style=\"font-weight: bold\">Model: \"sequential_7\"</span>\n",
              "</pre>\n"
            ],
            "text/plain": [
              "\u001b[1mModel: \"sequential_7\"\u001b[0m\n"
            ]
          },
          "metadata": {},
          "output_type": "display_data"
        },
        {
          "data": {
            "text/html": [
              "<pre style=\"white-space:pre;overflow-x:auto;line-height:normal;font-family:Menlo,'DejaVu Sans Mono',consolas,'Courier New',monospace\">┏━━━━━━━━━━━━━━━━━━━━━━━━━━━━━━━━━┳━━━━━━━━━━━━━━━━━━━━━━━━┳━━━━━━━━━━━━━━━┓\n",
              "┃<span style=\"font-weight: bold\"> Layer (type)                    </span>┃<span style=\"font-weight: bold\"> Output Shape           </span>┃<span style=\"font-weight: bold\">       Param # </span>┃\n",
              "┡━━━━━━━━━━━━━━━━━━━━━━━━━━━━━━━━━╇━━━━━━━━━━━━━━━━━━━━━━━━╇━━━━━━━━━━━━━━━┩\n",
              "│ embedding_7 (<span style=\"color: #0087ff; text-decoration-color: #0087ff\">Embedding</span>)         │ (<span style=\"color: #00d7ff; text-decoration-color: #00d7ff\">None</span>, <span style=\"color: #00af00; text-decoration-color: #00af00\">441</span>, <span style=\"color: #00af00; text-decoration-color: #00af00\">50</span>)        │       <span style=\"color: #00af00; text-decoration-color: #00af00\">100,000</span> │\n",
              "├─────────────────────────────────┼────────────────────────┼───────────────┤\n",
              "│ lstm_7 (<span style=\"color: #0087ff; text-decoration-color: #0087ff\">LSTM</span>)                   │ (<span style=\"color: #00d7ff; text-decoration-color: #00d7ff\">None</span>, <span style=\"color: #00af00; text-decoration-color: #00af00\">200</span>)            │       <span style=\"color: #00af00; text-decoration-color: #00af00\">200,800</span> │\n",
              "├─────────────────────────────────┼────────────────────────┼───────────────┤\n",
              "│ dense_7 (<span style=\"color: #0087ff; text-decoration-color: #0087ff\">Dense</span>)                 │ (<span style=\"color: #00d7ff; text-decoration-color: #00d7ff\">None</span>, <span style=\"color: #00af00; text-decoration-color: #00af00\">5</span>)              │         <span style=\"color: #00af00; text-decoration-color: #00af00\">1,005</span> │\n",
              "└─────────────────────────────────┴────────────────────────┴───────────────┘\n",
              "</pre>\n"
            ],
            "text/plain": [
              "┏━━━━━━━━━━━━━━━━━━━━━━━━━━━━━━━━━┳━━━━━━━━━━━━━━━━━━━━━━━━┳━━━━━━━━━━━━━━━┓\n",
              "┃\u001b[1m \u001b[0m\u001b[1mLayer (type)                   \u001b[0m\u001b[1m \u001b[0m┃\u001b[1m \u001b[0m\u001b[1mOutput Shape          \u001b[0m\u001b[1m \u001b[0m┃\u001b[1m \u001b[0m\u001b[1m      Param #\u001b[0m\u001b[1m \u001b[0m┃\n",
              "┡━━━━━━━━━━━━━━━━━━━━━━━━━━━━━━━━━╇━━━━━━━━━━━━━━━━━━━━━━━━╇━━━━━━━━━━━━━━━┩\n",
              "│ embedding_7 (\u001b[38;5;33mEmbedding\u001b[0m)         │ (\u001b[38;5;45mNone\u001b[0m, \u001b[38;5;34m441\u001b[0m, \u001b[38;5;34m50\u001b[0m)        │       \u001b[38;5;34m100,000\u001b[0m │\n",
              "├─────────────────────────────────┼────────────────────────┼───────────────┤\n",
              "│ lstm_7 (\u001b[38;5;33mLSTM\u001b[0m)                   │ (\u001b[38;5;45mNone\u001b[0m, \u001b[38;5;34m200\u001b[0m)            │       \u001b[38;5;34m200,800\u001b[0m │\n",
              "├─────────────────────────────────┼────────────────────────┼───────────────┤\n",
              "│ dense_7 (\u001b[38;5;33mDense\u001b[0m)                 │ (\u001b[38;5;45mNone\u001b[0m, \u001b[38;5;34m5\u001b[0m)              │         \u001b[38;5;34m1,005\u001b[0m │\n",
              "└─────────────────────────────────┴────────────────────────┴───────────────┘\n"
            ]
          },
          "metadata": {},
          "output_type": "display_data"
        },
        {
          "data": {
            "text/html": [
              "<pre style=\"white-space:pre;overflow-x:auto;line-height:normal;font-family:Menlo,'DejaVu Sans Mono',consolas,'Courier New',monospace\"><span style=\"font-weight: bold\"> Total params: </span><span style=\"color: #00af00; text-decoration-color: #00af00\">301,805</span> (1.15 MB)\n",
              "</pre>\n"
            ],
            "text/plain": [
              "\u001b[1m Total params: \u001b[0m\u001b[38;5;34m301,805\u001b[0m (1.15 MB)\n"
            ]
          },
          "metadata": {},
          "output_type": "display_data"
        },
        {
          "data": {
            "text/html": [
              "<pre style=\"white-space:pre;overflow-x:auto;line-height:normal;font-family:Menlo,'DejaVu Sans Mono',consolas,'Courier New',monospace\"><span style=\"font-weight: bold\"> Trainable params: </span><span style=\"color: #00af00; text-decoration-color: #00af00\">301,805</span> (1.15 MB)\n",
              "</pre>\n"
            ],
            "text/plain": [
              "\u001b[1m Trainable params: \u001b[0m\u001b[38;5;34m301,805\u001b[0m (1.15 MB)\n"
            ]
          },
          "metadata": {},
          "output_type": "display_data"
        },
        {
          "data": {
            "text/html": [
              "<pre style=\"white-space:pre;overflow-x:auto;line-height:normal;font-family:Menlo,'DejaVu Sans Mono',consolas,'Courier New',monospace\"><span style=\"font-weight: bold\"> Non-trainable params: </span><span style=\"color: #00af00; text-decoration-color: #00af00\">0</span> (0.00 B)\n",
              "</pre>\n"
            ],
            "text/plain": [
              "\u001b[1m Non-trainable params: \u001b[0m\u001b[38;5;34m0\u001b[0m (0.00 B)\n"
            ]
          },
          "metadata": {},
          "output_type": "display_data"
        },
        {
          "name": "stdout",
          "output_type": "stream",
          "text": [
            "None\n"
          ]
        }
      ],
      "source": [
        "embed_dim = 50\n",
        "lstm_out = 200\n",
        "max_features = 2000\n",
        "model = Sequential()\n",
        "model.add(Embedding(max_features, embed_dim,input_length = X_train.shape[1]))\n",
        "model.add(LSTM(lstm_out))\n",
        "model.add(Dense(5,activation='softmax'))\n",
        "model.compile(loss = 'categorical_crossentropy', optimizer='adam',metrics = ['accuracy'])\n",
        "model.build(input_shape=(None, X_train.shape[1]))\n",
        "print(model.summary())"
      ]
    },
    {
      "cell_type": "code",
      "execution_count": null,
      "metadata": {
        "colab": {
          "base_uri": "https://localhost:8080/",
          "height": 422
        },
        "id": "dktCdBbIKzM6",
        "outputId": "bdb12223-ed6b-49ef-863b-50f284745e09"
      },
      "outputs": [
        {
          "name": "stdout",
          "output_type": "stream",
          "text": [
            "You must install pydot (`pip install pydot`) for `plot_model` to work.\n"
          ]
        }
      ],
      "source": [
        "plot_model(model, show_shapes=True, show_layer_names=True)"
      ]
    },
    {
      "cell_type": "code",
      "execution_count": null,
      "metadata": {
        "colab": {
          "base_uri": "https://localhost:8080/"
        },
        "id": "DIEu3dkBIHEN",
        "outputId": "b5a32d46-965a-4306-9b1d-3d438d6d06cd"
      },
      "outputs": [
        {
          "name": "stdout",
          "output_type": "stream",
          "text": [
            "Epoch 1/3\n",
            "2540/2540 - 4382s - 2s/step - accuracy: 0.5559 - loss: 1.0185\n",
            "Epoch 2/3\n",
            "2540/2540 - 4385s - 2s/step - accuracy: 0.5927 - loss: 0.9382\n",
            "Epoch 3/3\n",
            "2540/2540 - 4221s - 2s/step - accuracy: 0.6095 - loss: 0.8988\n"
          ]
        },
        {
          "data": {
            "text/plain": [
              "<keras.src.callbacks.history.History at 0x29772cdc0>"
            ]
          },
          "execution_count": 53,
          "metadata": {},
          "output_type": "execute_result"
        }
      ],
      "source": [
        "batch_size = 256\n",
        "model.fit(X_train, Y_train, epochs = 3, batch_size=batch_size, verbose = 2)"
      ]
    },
    {
      "cell_type": "code",
      "execution_count": null,
      "metadata": {
        "id": "LC4h6bF6Pufh"
      },
      "outputs": [],
      "source": [
        "plot_model(model, show_shapes=True, show_layer_names=True)"
      ]
    },
    {
      "cell_type": "code",
      "execution_count": null,
      "metadata": {
        "id": "3IdYhDWXPufi",
        "outputId": "fcae56fc-903f-47a6-9cfb-794483a2a975"
      },
      "outputs": [
        {
          "name": "stdout",
          "output_type": "stream",
          "text": [
            "\u001b[1m1563/1563\u001b[0m \u001b[32m━━━━━━━━━━━━━━━━━━━━\u001b[0m\u001b[37m\u001b[0m \u001b[1m165s\u001b[0m 105ms/step\n"
          ]
        },
        {
          "data": {
            "text/plain": [
              "array([[8.9981723e-01, 6.2108882e-02, 1.4735548e-02, 6.4053852e-03,\n",
              "        1.6932935e-02],\n",
              "       [9.6845102e-01, 2.4137300e-02, 4.3208869e-03, 8.6351711e-04,\n",
              "        2.2273839e-03],\n",
              "       [8.6152744e-01, 1.2675580e-01, 1.0093522e-02, 1.0890545e-03,\n",
              "        5.3417083e-04],\n",
              "       ...,\n",
              "       [1.7961464e-03, 2.1239640e-02, 2.2636926e-01, 6.6307986e-01,\n",
              "        8.7515168e-02],\n",
              "       [7.3963898e-01, 2.4286933e-01, 1.4169958e-02, 1.8711125e-03,\n",
              "        1.4506398e-03],\n",
              "       [7.3259407e-01, 2.4144620e-01, 2.2558568e-02, 3.0133573e-03,\n",
              "        3.8777437e-04]], dtype=float32)"
            ]
          },
          "execution_count": 54,
          "metadata": {},
          "output_type": "execute_result"
        }
      ],
      "source": [
        "#since tf 2.6 and later\n",
        "predictions = model.predict(X_test)\n",
        "predictions"
      ]
    },
    {
      "cell_type": "code",
      "execution_count": null,
      "metadata": {
        "id": "4Y8mbDB9Pufi",
        "outputId": "7dbba828-4a2a-4f1b-ede8-d212b80effbf"
      },
      "outputs": [
        {
          "data": {
            "text/plain": [
              "array([0, 0, 0, ..., 3, 0, 0])"
            ]
          },
          "execution_count": 55,
          "metadata": {},
          "output_type": "execute_result"
        }
      ],
      "source": [
        "prediction_classes=np.argmax(predictions,axis=1)\n",
        "prediction_classes"
      ]
    },
    {
      "cell_type": "code",
      "execution_count": null,
      "metadata": {
        "id": "AC3mA3dZPufi",
        "outputId": "1a505e12-5e39-4e8c-dd06-411837bab2c5"
      },
      "outputs": [
        {
          "name": "stdout",
          "output_type": "stream",
          "text": [
            "196/196 - 112s - 572ms/step - accuracy: 0.6091 - loss: 0.8993\n",
            "acc: 0.61\n"
          ]
        }
      ],
      "source": [
        "score,acc = model.evaluate(X_test, Y_test, verbose = 2, batch_size = batch_size)\n",
        "\n",
        "print(\"acc: %.2f\" % (acc))"
      ]
    },
    {
      "cell_type": "code",
      "execution_count": null,
      "metadata": {
        "id": "9F9Pxw5pPufj"
      },
      "outputs": [],
      "source": [
        "cf_matrix = confusion_matrix(Y_test.argmax(axis=1),prediction_classes)"
      ]
    },
    {
      "cell_type": "code",
      "execution_count": null,
      "metadata": {
        "id": "XnJWG61xPufj",
        "outputId": "533bff5a-951a-4b96-8a76-ca0e6d58cfaa"
      },
      "outputs": [
        {
          "data": {
            "image/png": "[encoded data removed]",
            "text/plain": [
              "<Figure size 1000x700 with 2 Axes>"
            ]
          },
          "metadata": {},
          "output_type": "display_data"
        }
      ],
      "source": [
        "# Assuming cf_matrix is already defined, replace this line with your actual confusion matrix\n",
        "cf_matrix = np.array([\n",
        "    [7696, 1789,  306,   82,  127],\n",
        "    [2288, 5127, 2129,  314,  142],\n",
        "    [ 418, 1739, 5772, 1719,  352],\n",
        "    [ 170,  244, 2218, 4939, 2429],\n",
        "    [ 231,  107,  468, 2274, 6920]\n",
        "])\n",
        "\n",
        "# Define class names\n",
        "class_names = [\"Class 1\", \"Class 2\", \"Class 3\", \"Class 4\", \"Class 5\"]\n",
        "\n",
        "# Create a heatmap\n",
        "plt.figure(figsize=(10, 7))\n",
        "sns.heatmap(cf_matrix, annot=True, fmt='g', cmap='Blues')\n",
        "plt.xlabel('Predicted labels')\n",
        "plt.ylabel('True labels')\n",
        "plt.title('Confusion Matrix')\n",
        "plt.xticks(np.arange(len(class_names)) + 0.5, class_names, rotation=45)\n",
        "plt.yticks(np.arange(len(class_names)) + 0.5, class_names, rotation=0)\n",
        "plt.show()"
      ]
    },
    {
      "cell_type": "code",
      "execution_count": null,
      "metadata": {
        "id": "cFk1X0okou5s",
        "outputId": "9621b1b5-9f87-4349-dfa0-e72e1b2bde93"
      },
      "outputs": [
        {
          "data": {
            "image/png": "[encoded data removed]",
            "text/plain": [
              "<Figure size 1000x700 with 2 Axes>"
            ]
          },
          "metadata": {},
          "output_type": "display_data"
        }
      ],
      "source": [
        "# Assuming cf_matrix is already defined, replace this line with your actual confusion matrix\n",
        "cf_matrix = np.array([\n",
        "    [7696, 1789,  306,   82,  127],\n",
        "    [2288, 5127, 2129,  314,  142],\n",
        "    [ 418, 1739, 5772, 1719,  352],\n",
        "    [ 170,  244, 2218, 4939, 2429],\n",
        "    [ 231,  107,  468, 2274, 6920]\n",
        "])\n",
        "\n",
        "# Normalize the confusion matrix by rows (true labels)\n",
        "row_sums = cf_matrix.sum(axis=1)[:, np.newaxis]\n",
        "cf_matrix_normalized = cf_matrix / row_sums\n",
        "\n",
        "# Define class names\n",
        "class_names = [\"Class 1\", \"Class 2\", \"Class 3\", \"Class 4\", \"Class 5\"]\n",
        "\n",
        "# Create a heatmap with percentages\n",
        "plt.figure(figsize=(10, 7))\n",
        "sns.heatmap(cf_matrix_normalized, annot=True, fmt='.2%', cmap='Blues', xticklabels=class_names, yticklabels=class_names)\n",
        "plt.xlabel('Predicted labels')\n",
        "plt.ylabel('True labels')\n",
        "plt.title('Confusion Matrix (Normalized to Percentages)')\n",
        "plt.xticks(rotation=45)\n",
        "plt.yticks(rotation=0)\n",
        "plt.show()"
      ]
    },
    {
      "cell_type": "code",
      "execution_count": null,
      "metadata": {
        "id": "xRH6AYzBPufj",
        "outputId": "d2fa8c65-68fa-4fd7-a6af-b2690a80f75a"
      },
      "outputs": [
        {
          "name": "stdout",
          "output_type": "stream",
          "text": [
            "              precision    recall  f1-score   support\n",
            "\n",
            "           0       0.71      0.77      0.74     10000\n",
            "           1       0.57      0.51      0.54     10000\n",
            "           2       0.53      0.58      0.55     10000\n",
            "           3       0.53      0.49      0.51     10000\n",
            "           4       0.69      0.69      0.69     10000\n",
            "\n",
            "    accuracy                           0.61     50000\n",
            "   macro avg       0.61      0.61      0.61     50000\n",
            "weighted avg       0.61      0.61      0.61     50000\n",
            "\n"
          ]
        }
      ],
      "source": [
        "print(classification_report(Y_test.argmax(axis=1),prediction_classes))"
      ]
    },
    {
      "cell_type": "markdown",
      "metadata": {
        "id": "sRfqF1r-Pufj"
      },
      "source": [
        "Let's try it in action"
      ]
    },
    {
      "cell_type": "code",
      "execution_count": null,
      "metadata": {
        "id": "ENJWuN3SPufj",
        "outputId": "9f4cd53f-6373-483c-92a0-4beca1bc0dca"
      },
      "outputs": [
        {
          "name": "stdout",
          "output_type": "stream",
          "text": [
            "[[   0    0    0    0    0    0    0    0    0    0    0    0    0    0\n",
            "     0    0    0    0    0    0    0    0    0    0    0  864 1320 1320]]\n",
            "1/1 - 0s - 137ms/step\n",
            "negative\n"
          ]
        }
      ],
      "source": [
        "twt = ['']\n",
        "#vectorizing the tweet by the pre-fitted tokenizer instance\n",
        "twt = tokenizer.texts_to_sequences(twt)\n",
        "#padding the tweet to have exactly the same shape as `embedding_2` input\n",
        "twt = pad_sequences(twt, maxlen=28, dtype='int32', value=0)\n",
        "print(twt)\n",
        "sentiment = model.predict(twt,batch_size=1,verbose = 2)[0]\n",
        "if(np.argmax(sentiment) == 0):\n",
        "    print(\"negative\")\n",
        "elif (np.argmax(sentiment) == 1):\n",
        "    print(\"positive\")"
      ]
    },
    {
      "cell_type": "code",
      "execution_count": null,
      "metadata": {
        "id": "PdgmbCPUou5s",
        "outputId": "ca83c172-f236-4c21-b618-0f462d04c63a"
      },
      "outputs": [
        {
          "name": "stdout",
          "output_type": "stream",
          "text": [
            "[[ 119  510  395    9    7   83    3   83 1682   83 1652   27  296 1066\n",
            "    83  234  125   86   98  400   47  493  877 1806 1433    7  119    5]]\n",
            "1/1 - 0s - 81ms/step\n",
            "Negative\n"
          ]
        }
      ],
      "source": [
        "twt = ['Shame on me for choosing a pizza place based on its appearance in a book/movie. This place is a tourist trap not frequented by the locals. Long lines. Poor, slow and borderline hostile service. And while I am one who believes that all pizza is good pizza to some degree, the pizza here did not come remotely close to living up to expectations. The pizza was almost soupy and the flavor of the sauce/cheese was average at best. I should have listened to our Neapolitan charter boat captain and gone elsewhere. An opportunity missed and one that I will rue for a long time.']\n",
        "#vectorizing the tweet by the pre-fitted tokenizer instance\n",
        "twt = tokenizer.texts_to_sequences(twt)\n",
        "#padding the tweet to have exactly the same shape as `embedding_2` input\n",
        "twt = pad_sequences(twt, maxlen=28, dtype='int32', value=0)\n",
        "print(twt)\n",
        "sentiment = model.predict(twt,batch_size=1,verbose = 2)[0]\n",
        "# Determine the sentiment class based on the highest probability\n",
        "if np.argmax(sentiment) == 0:\n",
        "    print(\"Very Negative\")\n",
        "elif np.argmax(sentiment) == 1:\n",
        "    print(\"Negative\")\n",
        "elif np.argmax(sentiment) == 2:\n",
        "    print(\"Neutral\")\n",
        "elif np.argmax(sentiment) == 3:\n",
        "    print(\"Positive\")\n",
        "elif np.argmax(sentiment) == 4:\n",
        "    print(\"Very Positive\")"
      ]
    },
    {
      "cell_type": "code",
      "execution_count": null,
      "metadata": {
        "id": "SIjGLqQpou5s",
        "outputId": "fd6e54df-ceab-420e-a7d1-a60ae706ab49"
      },
      "outputs": [
        {
          "name": "stdout",
          "output_type": "stream",
          "text": [
            "[[  79  147  377  146   83   56  433   62   75    6  151  119   11  259\n",
            "   218   28  278   11 1652  167   27  511   47   83   94  606  104  413]]\n",
            "1/1 - 0s - 19ms/step\n",
            "Very Positive\n"
          ]
        }
      ],
      "source": [
        "twt = ['Ate the pizza in the street, after one and a half hour wait. Worth it? Yes amazing pizza, love it.Wish the staff was happier to see me, but i get it. The Line was so long they had to go outside and tell people to comeback later.If you wanna go here I recommend booking, or come early.Any how, the best pizza I’ve ever eaten on the side of the street.']\n",
        "#vectorizing the tweet by the pre-fitted tokenizer instance\n",
        "twt = tokenizer.texts_to_sequences(twt)\n",
        "#padding the tweet to have exactly the same shape as `embedding_2` input\n",
        "twt = pad_sequences(twt, maxlen=28, dtype='int32', value=0)\n",
        "print(twt)\n",
        "sentiment = model.predict(twt,batch_size=1,verbose = 2)[0]\n",
        "# Determine the sentiment class based on the highest probability\n",
        "if np.argmax(sentiment) == 0:\n",
        "    print(\"Very Negative\")\n",
        "elif np.argmax(sentiment) == 1:\n",
        "    print(\"Negative\")\n",
        "elif np.argmax(sentiment) == 2:\n",
        "    print(\"Neutral\")\n",
        "elif np.argmax(sentiment) == 3:\n",
        "    print(\"Positive\")\n",
        "elif np.argmax(sentiment) == 4:\n",
        "    print(\"Very Positive\")"
      ]
    },
    {
      "cell_type": "code",
      "execution_count": null,
      "metadata": {
        "id": "EIW6Sojyou5t",
        "outputId": "e0c51286-6acb-447d-ed89-00da37e4b0e1"
      },
      "outputs": [
        {
          "name": "stdout",
          "output_type": "stream",
          "text": [
            "[[   0    0    0    0    0    0    0    0    0    0    0    0    0    0\n",
            "   176  109  171  522  276   77 1027  403  126   34 1652  114  859  146]]\n",
            "1/1 - 0s - 18ms/step\n",
            "Very Positive\n"
          ]
        }
      ],
      "source": [
        "twt = ['Mia is an extraordinary 10-year-old with a zest for life that inspires everyone around her. Her radiant smile and boundless energy light up every room she enters. Here are some of the many reasons Mia is truly amazing']\n",
        "twt = tokenizer.texts_to_sequences(twt)\n",
        "#padding the tweet to have exactly the same shape as `embedding_2` input\n",
        "twt = pad_sequences(twt, maxlen=28, dtype='int32', value=0)\n",
        "print(twt)\n",
        "sentiment = model.predict(twt,batch_size=1,verbose = 2)[0]\n",
        "# Determine the sentiment class based on the highest probability\n",
        "if np.argmax(sentiment) == 0:\n",
        "    print(\"Very Negative\")\n",
        "elif np.argmax(sentiment) == 1:\n",
        "    print(\"Negative\")\n",
        "elif np.argmax(sentiment) == 2:\n",
        "    print(\"Neutral\")\n",
        "elif np.argmax(sentiment) == 3:\n",
        "    print(\"Positive\")\n",
        "elif np.argmax(sentiment) == 4:\n",
        "    print(\"Very Positive\")"
      ]
    }
  ],
  "metadata": {
    "_change_revision": 0,
    "_is_fork": false,
    "colab": {
      "gpuType": "T4",
      "provenance": []
    },
    "kernelspec": {
      "display_name": "Python 3",
      "name": "python3"
    },
    "language_info": {
      "codemirror_mode": {
        "name": "ipython",
        "version": 3
      },
      "file_extension": ".py",
      "mimetype": "text/x-python",
      "name": "python",
      "nbconvert_exporter": "python",
      "pygments_lexer": "ipython3",
      "version": "3.9.6"
    }
  },
  "nbformat": 4,
  "nbformat_minor": 0
}