{
  "cells": [
    {
      "cell_type": "code",
      "execution_count": 1,
      "metadata": {
        "id": "fbvEUbWIHm2s"
      },
      "outputs": [
        {
          "name": "stdout",
          "output_type": "stream",
          "text": [
            "\n",
            "\u001b[1m[\u001b[0m\u001b[34;49mnotice\u001b[0m\u001b[1;39;49m]\u001b[0m\u001b[39;49m A new release of pip is available: \u001b[0m\u001b[31;49m23.2.1\u001b[0m\u001b[39;49m -> \u001b[0m\u001b[32;49m24.0\u001b[0m\n",
            "\u001b[1m[\u001b[0m\u001b[34;49mnotice\u001b[0m\u001b[1;39;49m]\u001b[0m\u001b[39;49m To update, run: \u001b[0m\u001b[32;49mpip install --upgrade pip\u001b[0m\n"
          ]
        }
      ],
      "source": [
        "# !apt-get install openjdk-8-jdk-headless -qq > /dev/null\n",
        "# !wget -q https://archive.apache.org/dist/spark/spark-3.5.1/spark-3.5.1-bin-hadoop3.tgz\n",
        "# # If the above command is too slow, uncomment the following and try it\n",
        "# !wget -q https://big.csr.unibo.it/downloads/bbs-dm/spark-3.5.1-bin-hadoop3.tgz\n",
        "# !tar xf spark-3.5.1-bin-hadoop3.tgz\n",
        "!pip3 install -q findspark"
      ]
    },
    {
      "cell_type": "code",
      "execution_count": 1,
      "metadata": {
        "id": "4oTFM5YtJvv7"
      },
      "outputs": [
        {
          "data": {
            "text/plain": [
              "'./spark-3.5.1-bin-hadoop3'"
            ]
          },
          "execution_count": 1,
          "metadata": {},
          "output_type": "execute_result"
        }
      ],
      "source": [
        "import os\n",
        "os.environ[\"JAVA_HOME\"] = \"/Library/Java/JavaVirtualMachines/temurin-22.jdk/Contents/Home\"\n",
        "os.environ[\"SPARK_HOME\"] = \"./spark-3.5.1-bin-hadoop3\"\n",
        "import findspark\n",
        "findspark.init()\n",
        "findspark.find() # Should return '/content/spark-3.5.1-bin-hadoop3'"
      ]
    },
    {
      "cell_type": "code",
      "execution_count": 2,
      "metadata": {
        "id": "KJlzVAmbJ9vL"
      },
      "outputs": [
        {
          "name": "stderr",
          "output_type": "stream",
          "text": [
            "24/06/19 15:09:10 WARN Utils: Your hostname, Joses-MacBook-Pro.local resolves to a loopback address: 127.0.0.1; using 172.16.1.246 instead (on interface en0)\n",
            "24/06/19 15:09:10 WARN Utils: Set SPARK_LOCAL_IP if you need to bind to another address\n",
            "Setting default log level to \"WARN\".\n",
            "To adjust logging level use sc.setLogLevel(newLevel). For SparkR, use setLogLevel(newLevel).\n",
            "24/06/19 15:09:11 WARN NativeCodeLoader: Unable to load native-hadoop library for your platform... using builtin-java classes where applicable\n"
          ]
        },
        {
          "data": {
            "text/html": [
              "\n",
              "        <div>\n",
              "            <p><b>SparkContext</b></p>\n",
              "\n",
              "            <p><a href=\"http://172.16.1.246:4050\">Spark UI</a></p>\n",
              "\n",
              "            <dl>\n",
              "              <dt>Version</dt>\n",
              "                <dd><code>v3.5.1</code></dd>\n",
              "              <dt>Master</dt>\n",
              "                <dd><code>local</code></dd>\n",
              "              <dt>AppName</dt>\n",
              "                <dd><code>Colab</code></dd>\n",
              "            </dl>\n",
              "        </div>\n",
              "        "
            ],
            "text/plain": [
              "<SparkContext master=local appName=Colab>"
            ]
          },
          "execution_count": 2,
          "metadata": {},
          "output_type": "execute_result"
        }
      ],
      "source": [
        "from pyspark.sql import SparkSession\n",
        "\n",
        "spark = SparkSession.builder\\\n",
        "        .master(\"local\")\\\n",
        "        .appName(\"Colab\")\\\n",
        "        .config('spark.ui.port', '4050')\\\n",
        "        .getOrCreate()\n",
        "sc = spark.sparkContext\n",
        "\n",
        "sc"
      ]
    },
    {
      "cell_type": "markdown",
      "metadata": {
        "id": "8biYjnVtmZeR"
      },
      "source": [
        "# MovieLens\n",
        "\n",
        "[MovieLens](https://grouplens.org/datasets/movielens/) is a dataset about movies and ratings. You are working with two files:\n",
        "\n",
        "- ml-movies.csv: contains details about the movies\n",
        "  - Each movie is identified by ```movieId```\n",
        "  - The title of the movie contains the information about the year of publication\n",
        "- ml-ratings-1m.csv: contains 1 million ratings (in a range from 1 to 5) given by users to movies\n",
        "  - Each rating is identified by ```movieId``` and ```userId```\n",
        "  - Each rating is associated to a timestamp in milliseconds (e.g., 1256677221000)\n",
        "\n",
        "Your goal is to create a single file representing the following cube.\n",
        "\n",
        "![image.png](data:image/png;base64,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)\n",
        "\n",
        "The procedure to create the cube is the following.\n",
        "\n",
        "1. On the ml-movies.csv file:\n",
        "  - Each line represents a movie, and the title includes the year of publication in the end, between parenthesis. We want to extract the year from the title. To do so:\n",
        "    - Use the ```mycolumn.substr(start,number_of_chars)``` to isolate the year; remember that a negative ```start``` can be used to start from the end of the string\n",
        "    - Cast the result to ```int```\n",
        "    - Drop records with null values\n",
        "2. On the ml-ratings-1m-v2.csv:\n",
        "  - Get rid of the userId column\n",
        "  - Convert the decimal character from comma to dot (as done during class)\n",
        "  - Convert the timestamp from milliseconds to seconds by dividing the original value by 1000\n",
        "  - Convert the timestamp in seconds to the \"yyyy-MM\" format to obtain the month, and to the \"yyyy\" format to obtain the year; to do so, use the ```from_unixtime(dfRatings['my_column'],\"mydateformat\")``` to convert from timestamp to the format of your choice\n",
        "3. Join the two datasets on the ```movieId```\n",
        "4. Aggregate the data by year-month, year, and publicationYear to calculate the average rating and count the records\n",
        "5. Save the result to a file"
      ]
    },
    {
      "cell_type": "code",
      "execution_count": 3,
      "metadata": {
        "id": "rEq_fpzNF1pE"
      },
      "outputs": [
        {
          "name": "stdout",
          "output_type": "stream",
          "text": [
            "--2024-06-19 15:09:12--  https://raw.githubusercontent.com/w4bo/2024-bbs-dm/master/materials/datasets/ml-movies.csv\n",
            "A resolver raw.githubusercontent.com (raw.githubusercontent.com)... 185.199.111.133, 185.199.108.133, 185.199.109.133, ...\n",
            "A ligar a raw.githubusercontent.com (raw.githubusercontent.com)|185.199.111.133|:443... ligado.\n",
            "Pedido HTTP enviado, a aguardar resposta... 200 OK\n",
            "Tamanho: 2800082 (2,7M) [text/plain]\n",
            "A gravar em: \"ml-movies.csv.1\"\n",
            "\n",
            "ml-movies.csv.1     100%[===================>]   2,67M  13,3MB/s    em 0,2s    \n",
            "\n",
            "2024-06-19 15:09:12 (13,3 MB/s) - \"ml-movies.csv.1\" gravado [2800082/2800082]\n",
            "\n",
            "--2024-06-19 15:09:12--  https://raw.githubusercontent.com/w4bo/2024-bbs-dm/master/materials/datasets/ml-ratings-1m-v2.csv\n",
            "A resolver raw.githubusercontent.com (raw.githubusercontent.com)... 185.199.111.133, 185.199.108.133, 185.199.109.133, ...\n",
            "A ligar a raw.githubusercontent.com (raw.githubusercontent.com)|185.199.111.133|:443... ligado.\n",
            "Pedido HTTP enviado, a aguardar resposta... 200 OK\n",
            "Tamanho: 26221932 (25M) [text/plain]\n",
            "A gravar em: \"ml-ratings-1m-v2.csv\"\n",
            "\n",
            "ml-ratings-1m-v2.cs 100%[===================>]  25,01M  5,87MB/s    em 4,0s    \n",
            "\n",
            "2024-06-19 15:09:16 (6,24 MB/s) - \"ml-ratings-1m-v2.csv\" gravado [26221932/26221932]\n",
            "\n"
          ]
        }
      ],
      "source": [
        "!wget https://raw.githubusercontent.com/w4bo/2024-bbs-dm/master/materials/datasets/ml-movies.csv\n",
        "!wget https://raw.githubusercontent.com/w4bo/2024-bbs-dm/master/materials/datasets/ml-ratings-1m-v2.csv"
      ]
    },
    {
      "cell_type": "code",
      "execution_count": 39,
      "metadata": {
        "id": "YKrMQw-2GGci"
      },
      "outputs": [],
      "source": [
        "from pyspark.sql.functions import *\n",
        "import datetime"
      ]
    },
    {
      "cell_type": "markdown",
      "metadata": {
        "id": "xO6bQ3NQwDAj"
      },
      "source": [
        "## Spark"
      ]
    },
    {
      "cell_type": "markdown",
      "metadata": {
        "id": "8tEU62tY2A8G"
      },
      "source": [
        "1. On the ml-movies.csv file:\n",
        "  - Each line represents a movie, and the title includes the year of publication in the end, between parenthesis. We want to extract the year from the title. To do so:\n",
        "    - Use the ```mycolumn.substr(start,number_of_chars)``` to isolate the year; remember that a negative ```start``` can be used to start from the end of the string\n",
        "    - Cast the result to ```int```\n",
        "    - Drop records with null values"
      ]
    },
    {
      "cell_type": "code",
      "execution_count": 40,
      "metadata": {
        "id": "Xcd4fAhgeDhH"
      },
      "outputs": [
        {
          "name": "stdout",
          "output_type": "stream",
          "text": [
            "+-------+--------------------+--------------------+\n",
            "|movieId|               title|              genres|\n",
            "+-------+--------------------+--------------------+\n",
            "|      1|    Toy Story (1995)|Adventure|Animati...|\n",
            "|      2|      Jumanji (1995)|Adventure|Childre...|\n",
            "|      3|Grumpier Old Men ...|      Comedy|Romance|\n",
            "|      4|Waiting to Exhale...|Comedy|Drama|Romance|\n",
            "|      5|Father of the Bri...|              Comedy|\n",
            "|      6|         Heat (1995)|Action|Crime|Thri...|\n",
            "|      7|      Sabrina (1995)|                NULL|\n",
            "|      8| Tom and Huck (1995)|  Adventure|Children|\n",
            "|      9| Sudden Death (1995)|                NULL|\n",
            "|     10|    GoldenEye (1995)|Action|Adventure|...|\n",
            "|     11|American Presiden...|Comedy|Drama|Romance|\n",
            "|     12|Dracula: Dead and...|       Comedy|Horror|\n",
            "|     13|        Balto (1995)|Adventure|Animati...|\n",
            "|     14|        Nixon (1995)|                NULL|\n",
            "|     15|Cutthroat Island ...|Action|Adventure|...|\n",
            "|     16|       Casino (1995)|         Crime|Drama|\n",
            "|     17|Sense and Sensibi...|       Drama|Romance|\n",
            "|     18|   Four Rooms (1995)|              Comedy|\n",
            "|     19|Ace Ventura: When...|              Comedy|\n",
            "|     20|  Money Train (1995)|Action|Comedy|Cri...|\n",
            "+-------+--------------------+--------------------+\n",
            "only showing top 20 rows\n",
            "\n"
          ]
        }
      ],
      "source": [
        "# TODO\n",
        "df_movies = spark.read.option(\"delimiter\", \",\").option(\"header\", \"true\").csv(\"ml-movies.csv\")\n",
        "df_movies.show()"
      ]
    },
    {
      "cell_type": "code",
      "execution_count": 41,
      "metadata": {},
      "outputs": [
        {
          "name": "stdout",
          "output_type": "stream",
          "text": [
            "+-------+--------------------+--------------------+---------------+\n",
            "|movieId|               title|              genres|publicationYear|\n",
            "+-------+--------------------+--------------------+---------------+\n",
            "|      1|    Toy Story (1995)|Adventure|Animati...|           1995|\n",
            "|      2|      Jumanji (1995)|Adventure|Childre...|           1995|\n",
            "|      3|Grumpier Old Men ...|      Comedy|Romance|           1995|\n",
            "|      4|Waiting to Exhale...|Comedy|Drama|Romance|           1995|\n",
            "|      5|Father of the Bri...|              Comedy|           1995|\n",
            "|      6|         Heat (1995)|Action|Crime|Thri...|           1995|\n",
            "|      7|      Sabrina (1995)|                NULL|           1995|\n",
            "|      8| Tom and Huck (1995)|  Adventure|Children|           1995|\n",
            "|      9| Sudden Death (1995)|                NULL|           1995|\n",
            "|     10|    GoldenEye (1995)|Action|Adventure|...|           1995|\n",
            "|     11|American Presiden...|Comedy|Drama|Romance|           1995|\n",
            "|     12|Dracula: Dead and...|       Comedy|Horror|           1995|\n",
            "|     13|        Balto (1995)|Adventure|Animati...|           1995|\n",
            "|     14|        Nixon (1995)|                NULL|           1995|\n",
            "|     15|Cutthroat Island ...|Action|Adventure|...|           1995|\n",
            "|     16|       Casino (1995)|         Crime|Drama|           1995|\n",
            "|     17|Sense and Sensibi...|       Drama|Romance|           1995|\n",
            "|     18|   Four Rooms (1995)|              Comedy|           1995|\n",
            "|     19|Ace Ventura: When...|              Comedy|           1995|\n",
            "|     20|  Money Train (1995)|Action|Comedy|Cri...|           1995|\n",
            "+-------+--------------------+--------------------+---------------+\n",
            "only showing top 20 rows\n",
            "\n"
          ]
        }
      ],
      "source": [
        "df_movies = df_movies.withColumn(\"year\", df_movies.title.substr(-5, 4).cast(\"integer\"))\n",
        "df_movies = df_movies.na.drop(subset=[\"year\"])\n",
        "df_movies = df_movies.withColumnRenamed(\"year\", \"publicationYear\")\n",
        "df_movies.show()"
      ]
    },
    {
      "cell_type": "markdown",
      "metadata": {
        "id": "Xhfjpccc2H0L"
      },
      "source": [
        "2. On the ml-ratings-1m-v2.csv:\n",
        "  - Get rid of the userId column\n",
        "  - Convert the decimal character from comma to dot (as done during class)\n",
        "  - Convert the timestamp from milliseconds to seconds by dividing the original value by 1000\n",
        "  - Convert the timestamp in seconds to the \"yyyy-MM\" format to obtain the month, and to the \"yyyy\" format to obtain the year; to do so, use the ```from_unixtime(dfRatings['my_column'],\"mydateformat\")``` to convert from timestamp to the format of your choice"
      ]
    },
    {
      "cell_type": "code",
      "execution_count": 42,
      "metadata": {
        "id": "_TUwF9e4HBs8"
      },
      "outputs": [
        {
          "name": "stdout",
          "output_type": "stream",
          "text": [
            "+------+-------+------+-------------+\n",
            "|userId|movieId|rating|    timestamp|\n",
            "+------+-------+------+-------------+\n",
            "|     1|    307|   3,5|1256677221000|\n",
            "|     1|    481|   3,5|1256677456000|\n",
            "|     1|   1091|   1,5|1256677471000|\n",
            "|     1|   1257|   4,5|1256677460000|\n",
            "|     1|   1449|   4,5|1256677264000|\n",
            "|     1|   1590|   2,5|1256677236000|\n",
            "|     1|   1591|   1,5|1256677475000|\n",
            "|     1|   2134|   4,5|1256677464000|\n",
            "|     1|   2478|     4|1256677239000|\n",
            "|     1|   2840|     3|1256677500000|\n",
            "|     1|   2986|   2,5|1256677496000|\n",
            "|     1|   3020|     4|1256677260000|\n",
            "|     1|   3424|   4,5|1256677444000|\n",
            "|     1|   3698|   3,5|1256677243000|\n",
            "|     1|   3826|     2|1256677210000|\n",
            "|     1|   3893|   3,5|1256677486000|\n",
            "|     2|    170|   3,5|1192913581000|\n",
            "|     2|    849|   3,5|1192913537000|\n",
            "|     2|   1186|   3,5|1192913611000|\n",
            "|     2|   1235|     3|1192913585000|\n",
            "+------+-------+------+-------------+\n",
            "only showing top 20 rows\n",
            "\n"
          ]
        }
      ],
      "source": [
        "# TODO\n",
        "df_ratings = spark.read.option(\"delimiter\", \";\").option(\"header\", \"true\").csv(\"ml-ratings-1m-v2.csv\")\n",
        "df_ratings.show()"
      ]
    },
    {
      "cell_type": "code",
      "execution_count": 43,
      "metadata": {},
      "outputs": [
        {
          "name": "stdout",
          "output_type": "stream",
          "text": [
            "+-------+------+----------------+-------+----+\n",
            "|movieId|rating|       timestamp|  month|year|\n",
            "+-------+------+----------------+-------+----+\n",
            "|    307|   3.5|1.256677179392E9|2009-10|2009|\n",
            "|    481|   3.5|1.256677441536E9|2009-10|2009|\n",
            "|   1091|   1.5|1.256677441536E9|2009-10|2009|\n",
            "|   1257|   4.5|1.256677441536E9|2009-10|2009|\n",
            "|   1449|   4.5|1.256677310464E9|2009-10|2009|\n",
            "|   1590|   2.5|1.256677179392E9|2009-10|2009|\n",
            "|   1591|   1.5|1.256677441536E9|2009-10|2009|\n",
            "|   2134|   4.5|1.256677441536E9|2009-10|2009|\n",
            "|   2478|   4.0|1.256677179392E9|2009-10|2009|\n",
            "|   2840|   3.0|1.256677441536E9|2009-10|2009|\n",
            "|   2986|   2.5|1.256677441536E9|2009-10|2009|\n",
            "|   3020|   4.0|1.256677310464E9|2009-10|2009|\n",
            "|   3424|   4.5|1.256677441536E9|2009-10|2009|\n",
            "|   3698|   3.5|1.256677179392E9|2009-10|2009|\n",
            "|   3826|   2.0|1.256677179392E9|2009-10|2009|\n",
            "|   3893|   3.5|1.256677441536E9|2009-10|2009|\n",
            "|    170|   3.5|1.192913534976E9|2007-10|2007|\n",
            "|    849|   3.5|1.192913534976E9|2007-10|2007|\n",
            "|   1186|   3.5|1.192913666048E9|2007-10|2007|\n",
            "|   1235|   3.0|1.192913534976E9|2007-10|2007|\n",
            "+-------+------+----------------+-------+----+\n",
            "only showing top 20 rows\n",
            "\n"
          ]
        }
      ],
      "source": [
        "# drop userId col\n",
        "df_ratings = df_ratings.drop(\"userId\")\n",
        "# convert the decimal from comma to integer\n",
        "df_ratings = df_ratings.withColumn(\n",
        "    \"rating\", regexp_replace(df_ratings.rating, \",\", \"\\\\.\").cast(\"float\")\n",
        ")\n",
        "# Convert the timestamp from milliseconds to seconds by dividing the original value by 1000\n",
        "df_ratings = df_ratings.withColumn(\"timestamp\", df_ratings.timestamp.cast(\"float\") / 1000)\n",
        "# Convert the timestamp from seconds to a month and a year\n",
        "df_ratings = df_ratings.withColumn(\n",
        "    \"month\", from_unixtime(df_ratings.timestamp, \"yyyy-MM\")\n",
        ")\n",
        "df_ratings = df_ratings.withColumn(\"year\", from_unixtime(df_ratings.timestamp, \"yyyy\"))\n",
        "\n",
        "df_ratings.show()"
      ]
    },
    {
      "cell_type": "markdown",
      "metadata": {
        "id": "eup5SbFC2bQF"
      },
      "source": [
        "3. Join the two datasets on the ```movieId```"
      ]
    },
    {
      "cell_type": "code",
      "execution_count": 44,
      "metadata": {
        "id": "OaknyiXHeCbF"
      },
      "outputs": [
        {
          "name": "stdout",
          "output_type": "stream",
          "text": [
            "+-------+--------------------+--------------------+---------------+------+----------------+-------+----+\n",
            "|movieId|               title|              genres|publicationYear|rating|       timestamp|  month|year|\n",
            "+-------+--------------------+--------------------+---------------+------+----------------+-------+----+\n",
            "|    307|Three Colors: Blu...|               Drama|           1993|   3.5|1.256677179392E9|2009-10|2009|\n",
            "|    481|   Kalifornia (1993)|      Drama|Thriller|           1993|   3.5|1.256677441536E9|2009-10|2009|\n",
            "|   1091|Weekend at Bernie...|              Comedy|           1989|   1.5|1.256677441536E9|2009-10|2009|\n",
            "|   1257|Better Off Dead.....|      Comedy|Romance|           1985|   4.5|1.256677441536E9|2009-10|2009|\n",
            "|   1449|Waiting for Guffm...|              Comedy|           1996|   4.5|1.256677310464E9|2009-10|2009|\n",
            "|   1590|Event Horizon (1997)|Horror|Sci-Fi|Thr...|           1997|   2.5|1.256677179392E9|2009-10|2009|\n",
            "|   1591|        Spawn (1997)|Action|Adventure|...|           1997|   1.5|1.256677441536E9|2009-10|2009|\n",
            "|   2134|Weird Science (1985)|Comedy|Fantasy|Sc...|           1985|   4.5|1.256677441536E9|2009-10|2009|\n",
            "|   2478|¡Three Amigos! (1...|      Comedy|Western|           1986|   4.0|1.256677179392E9|2009-10|2009|\n",
            "|   2840|     Stigmata (1999)|      Drama|Thriller|           1999|   3.0|1.256677441536E9|2009-10|2009|\n",
            "|   2986|    RoboCop 2 (1990)|Action|Crime|Sci-...|           1990|   2.5|1.256677441536E9|2009-10|2009|\n",
            "|   3020| Falling Down (1993)|        Action|Drama|           1993|   4.0|1.256677310464E9|2009-10|2009|\n",
            "|   3424|Do the Right Thin...|               Drama|           1989|   4.5|1.256677441536E9|2009-10|2009|\n",
            "|   3698|Running Man, The ...|       Action|Sci-Fi|           1987|   3.5|1.256677179392E9|2009-10|2009|\n",
            "|   3826|   Hollow Man (2000)|Horror|Sci-Fi|Thr...|           2000|   2.0|1.256677179392E9|2009-10|2009|\n",
            "|   3893|  Nurse Betty (2000)|Comedy|Crime|Dram...|           2000|   3.5|1.256677441536E9|2009-10|2009|\n",
            "|    170|      Hackers (1995)|Action|Adventure|...|           1995|   3.5|1.192913534976E9|2007-10|2007|\n",
            "|    849|Escape from L.A. ...|Action|Adventure|...|           1996|   3.5|1.192913534976E9|2007-10|2007|\n",
            "|   1186|Sex, Lies, and Vi...|               Drama|           1989|   3.5|1.192913666048E9|2007-10|2007|\n",
            "|   1235|Harold and Maude ...|Comedy|Drama|Romance|           1971|   3.0|1.192913534976E9|2007-10|2007|\n",
            "+-------+--------------------+--------------------+---------------+------+----------------+-------+----+\n",
            "only showing top 20 rows\n",
            "\n"
          ]
        }
      ],
      "source": [
        "# TODO\n",
        "joined_df = df_movies.join(df_ratings, on=\"movieId\")\n",
        "joined_df.show()"
      ]
    },
    {
      "cell_type": "markdown",
      "metadata": {
        "id": "sb0XkXa9Orsf"
      },
      "source": [
        "4. Aggregate the data by year-month, year, and publicationYear to calculate the average rating and count the records"
      ]
    },
    {
      "cell_type": "code",
      "execution_count": 45,
      "metadata": {
        "id": "uR5yZvY4Rgr_"
      },
      "outputs": [
        {
          "name": "stderr",
          "output_type": "stream",
          "text": [
            "[Stage 61:>                                                         (0 + 1) / 1]\r"
          ]
        },
        {
          "name": "stdout",
          "output_type": "stream",
          "text": [
            "+----+-------+---------------+------------------+--------------+\n",
            "|year|  month|publicationYear|       avg(rating)|count(movieId)|\n",
            "+----+-------+---------------+------------------+--------------+\n",
            "|2000|2000-01|           1955|3.0869565217391304|            46|\n",
            "|2012|2012-06|           1982| 3.685185185185185|            27|\n",
            "|2016|2016-02|           2015|3.6146288209606987|           458|\n",
            "|2001|2001-08|           1975|3.8421052631578947|            38|\n",
            "|2000|2000-05|           2000|3.5277777777777777|           108|\n",
            "|2011|2011-01|           1984|               3.0|            30|\n",
            "|2013|2013-10|           1975| 4.136363636363637|            11|\n",
            "|2014|2014-03|           2006|3.7413793103448274|            29|\n",
            "|2015|2015-12|           1992| 3.477272727272727|            44|\n",
            "|2004|2004-01|           1950|              4.05|            10|\n",
            "|2012|2012-05|           2005|3.7555555555555555|            45|\n",
            "|2002|2002-08|           1956|2.6666666666666665|             3|\n",
            "|2001|2001-10|           1998| 3.544776119402985|           134|\n",
            "|2004|2004-03|           1968|3.7941176470588234|            34|\n",
            "|2004|2004-03|           1948|               4.0|             7|\n",
            "|2002|2002-09|           1994|3.4444444444444446|            45|\n",
            "|1999|1999-10|           1973| 3.857142857142857|            70|\n",
            "|2003|2003-10|           1988| 3.287037037037037|           108|\n",
            "|2006|2006-06|           1995|3.3405405405405406|           185|\n",
            "|2018|2018-01|           1995|3.5869565217391304|           115|\n",
            "+----+-------+---------------+------------------+--------------+\n",
            "only showing top 20 rows\n",
            "\n"
          ]
        },
        {
          "name": "stderr",
          "output_type": "stream",
          "text": [
            "                                                                                \r"
          ]
        }
      ],
      "source": [
        "# TODO\n",
        "agg_joined_df = joined_df.groupBy(\"year\", \"month\", \"publicationYear\").agg(\n",
        "    {\"rating\": \"avg\", \"movieId\": \"count\"}\n",
        ")\n",
        "agg_joined_df.show()"
      ]
    },
    {
      "cell_type": "markdown",
      "metadata": {
        "id": "bPzutmNo2uNv"
      },
      "source": [
        "5. Save the result to a file"
      ]
    },
    {
      "cell_type": "code",
      "execution_count": 47,
      "metadata": {
        "id": "pKTH93LQu61U"
      },
      "outputs": [
        {
          "name": "stderr",
          "output_type": "stream",
          "text": [
            "                                                                                \r"
          ]
        }
      ],
      "source": [
        "# TODO\n",
        "agg_joined_df.write.csv(\"./ratings_cube\")"
      ]
    },
    {
      "cell_type": "code",
      "execution_count": null,
      "metadata": {},
      "outputs": [],
      "source": [
        "# hehe"
      ]
    }
  ],
  "metadata": {
    "colab": {
      "collapsed_sections": [
        "EsElqAaj4Sse"
      ],
      "provenance": []
    },
    "kernelspec": {
      "display_name": "Python 3",
      "name": "python3"
    },
    "language_info": {
      "codemirror_mode": {
        "name": "ipython",
        "version": 3
      },
      "file_extension": ".py",
      "mimetype": "text/x-python",
      "name": "python",
      "nbconvert_exporter": "python",
      "pygments_lexer": "ipython3",
      "version": "3.12.0"
    }
  },
  "nbformat": 4,
  "nbformat_minor": 0
}
